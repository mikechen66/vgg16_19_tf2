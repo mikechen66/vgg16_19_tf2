{
 "cells": [
  {
   "cell_type": "code",
   "execution_count": 1,
   "metadata": {},
   "outputs": [],
   "source": [
    "# Edit the script based on the original code, Deep Learning with Python by Francios Chollet \n",
    "\n",
    "# Set the GPU growth to avoid the event \"Failed to get convolution algorithm\"\n",
    "\n",
    "import tensorflow as tf\n",
    "\n",
    "gpus = tf.config.experimental.list_physical_devices('GPU')\n",
    "for gpu in gpus:\n",
    "    tf.config.experimental.set_memory_growth(gpu, True)"
   ]
  },
  {
   "cell_type": "code",
   "execution_count": 2,
   "metadata": {},
   "outputs": [],
   "source": [
    "from keras.applications import VGG16\n",
    "\n",
    "conv_base = VGG16(weights='imagenet',\n",
    "                  include_top=False,\n",
    "                  input_shape=(150, 150, 3))"
   ]
  },
  {
   "cell_type": "code",
   "execution_count": 3,
   "metadata": {},
   "outputs": [
    {
     "name": "stdout",
     "output_type": "stream",
     "text": [
      "Model: \"vgg16\"\n",
      "_________________________________________________________________\n",
      "Layer (type)                 Output Shape              Param #   \n",
      "=================================================================\n",
      "input_1 (InputLayer)         [(None, 150, 150, 3)]     0         \n",
      "_________________________________________________________________\n",
      "block1_conv1 (Conv2D)        (None, 150, 150, 64)      1792      \n",
      "_________________________________________________________________\n",
      "block1_conv2 (Conv2D)        (None, 150, 150, 64)      36928     \n",
      "_________________________________________________________________\n",
      "block1_pool (MaxPooling2D)   (None, 75, 75, 64)        0         \n",
      "_________________________________________________________________\n",
      "block2_conv1 (Conv2D)        (None, 75, 75, 128)       73856     \n",
      "_________________________________________________________________\n",
      "block2_conv2 (Conv2D)        (None, 75, 75, 128)       147584    \n",
      "_________________________________________________________________\n",
      "block2_pool (MaxPooling2D)   (None, 37, 37, 128)       0         \n",
      "_________________________________________________________________\n",
      "block3_conv1 (Conv2D)        (None, 37, 37, 256)       295168    \n",
      "_________________________________________________________________\n",
      "block3_conv2 (Conv2D)        (None, 37, 37, 256)       590080    \n",
      "_________________________________________________________________\n",
      "block3_conv3 (Conv2D)        (None, 37, 37, 256)       590080    \n",
      "_________________________________________________________________\n",
      "block3_pool (MaxPooling2D)   (None, 18, 18, 256)       0         \n",
      "_________________________________________________________________\n",
      "block4_conv1 (Conv2D)        (None, 18, 18, 512)       1180160   \n",
      "_________________________________________________________________\n",
      "block4_conv2 (Conv2D)        (None, 18, 18, 512)       2359808   \n",
      "_________________________________________________________________\n",
      "block4_conv3 (Conv2D)        (None, 18, 18, 512)       2359808   \n",
      "_________________________________________________________________\n",
      "block4_pool (MaxPooling2D)   (None, 9, 9, 512)         0         \n",
      "_________________________________________________________________\n",
      "block5_conv1 (Conv2D)        (None, 9, 9, 512)         2359808   \n",
      "_________________________________________________________________\n",
      "block5_conv2 (Conv2D)        (None, 9, 9, 512)         2359808   \n",
      "_________________________________________________________________\n",
      "block5_conv3 (Conv2D)        (None, 9, 9, 512)         2359808   \n",
      "_________________________________________________________________\n",
      "block5_pool (MaxPooling2D)   (None, 4, 4, 512)         0         \n",
      "=================================================================\n",
      "Total params: 14,714,688\n",
      "Trainable params: 14,714,688\n",
      "Non-trainable params: 0\n",
      "_________________________________________________________________\n"
     ]
    }
   ],
   "source": [
    "conv_base.summary()"
   ]
  },
  {
   "cell_type": "code",
   "execution_count": 4,
   "metadata": {},
   "outputs": [],
   "source": [
    "from keras import models\n",
    "from keras import layers\n",
    "\n",
    "model = models.Sequential()\n",
    "model.add(conv_base)\n",
    "model.add(layers.Flatten())\n",
    "model.add(layers.Dense(256, activation='relu'))\n",
    "model.add(layers.Dense(1, activation='sigmoid'))\n",
    "\n",
    "conv_base.trainable = True\n",
    "\n",
    "set_trainable = False\n",
    "for layer in conv_base.layers:\n",
    "    if layer.name == 'block5_conv1':\n",
    "        set_trainable = True\n",
    "    if set_trainable:\n",
    "        layer.trainable = True\n",
    "    else:\n",
    "        layer.trainable = False"
   ]
  },
  {
   "cell_type": "code",
   "execution_count": 5,
   "metadata": {},
   "outputs": [
    {
     "name": "stdout",
     "output_type": "stream",
     "text": [
      "Found 2000 images belonging to 2 classes.\n",
      "Found 1000 images belonging to 2 classes.\n"
     ]
    }
   ],
   "source": [
    "import os\n",
    "import numpy as np\n",
    "from keras.preprocessing.image import ImageDataGenerator\n",
    "\n",
    "\n",
    "train_dir = '/home/mic/Documents/keras_vgg16_tf2/cats_and_dogs_small/train'\n",
    "validation_dir = '/home/mic/Documents/keras_vgg16_tf2/cats_and_dogs_small/validation'\n",
    "test_dir = '/home/mic/Documents/keras_vgg16_tf2/cats_and_dogs_small/test'\n",
    "\n",
    "train_datagen = ImageDataGenerator(\n",
    "      rescale=1./255,\n",
    "      rotation_range=40,\n",
    "      width_shift_range=0.2,\n",
    "      height_shift_range=0.2,\n",
    "      shear_range=0.2,\n",
    "      zoom_range=0.2,\n",
    "      horizontal_flip=True,\n",
    "      fill_mode='nearest')\n",
    "\n",
    "# Note that the validation data should not be augmented!\n",
    "test_datagen = ImageDataGenerator(rescale=1./255)\n",
    "\n",
    "train_generator = train_datagen.flow_from_directory(\n",
    "        # This is the target directory\n",
    "        train_dir,\n",
    "        # All images will be resized to 150x150\n",
    "        target_size=(150, 150),\n",
    "        batch_size=20,\n",
    "        # Since we use binary_crossentropy loss, we need binary labels\n",
    "        class_mode='binary')\n",
    "\n",
    "validation_generator = test_datagen.flow_from_directory(\n",
    "        validation_dir,\n",
    "        target_size=(150, 150),\n",
    "        batch_size=20,\n",
    "        class_mode='binary')"
   ]
  },
  {
   "cell_type": "code",
   "execution_count": 6,
   "metadata": {},
   "outputs": [],
   "source": [
    "from keras import optimizers\n",
    "\n",
    "model.compile(loss='binary_crossentropy',\n",
    "              optimizer=optimizers.RMSprop(lr=2e-5),\n",
    "              metrics=['acc'])"
   ]
  },
  {
   "cell_type": "code",
   "execution_count": 7,
   "metadata": {},
   "outputs": [
    {
     "name": "stdout",
     "output_type": "stream",
     "text": [
      "Epoch 1/30\n",
      "100/100 - 16s - loss: 0.4707 - acc: 0.7700 - val_loss: 0.2592 - val_acc: 0.8830\n",
      "Epoch 2/30\n",
      "100/100 - 16s - loss: 0.3358 - acc: 0.8510 - val_loss: 0.2095 - val_acc: 0.9060\n",
      "Epoch 3/30\n",
      "100/100 - 16s - loss: 0.2883 - acc: 0.8720 - val_loss: 0.1820 - val_acc: 0.9140\n",
      "Epoch 4/30\n",
      "100/100 - 16s - loss: 0.2633 - acc: 0.8895 - val_loss: 0.1995 - val_acc: 0.9110\n",
      "Epoch 5/30\n",
      "100/100 - 16s - loss: 0.2241 - acc: 0.9025 - val_loss: 0.1702 - val_acc: 0.9220\n",
      "Epoch 6/30\n",
      "100/100 - 16s - loss: 0.2063 - acc: 0.9140 - val_loss: 0.1661 - val_acc: 0.9320\n",
      "Epoch 7/30\n",
      "100/100 - 16s - loss: 0.2161 - acc: 0.9055 - val_loss: 0.1903 - val_acc: 0.9280\n",
      "Epoch 8/30\n",
      "100/100 - 16s - loss: 0.1918 - acc: 0.9145 - val_loss: 0.1513 - val_acc: 0.9310\n",
      "Epoch 9/30\n",
      "100/100 - 16s - loss: 0.1882 - acc: 0.9275 - val_loss: 0.1674 - val_acc: 0.9320\n",
      "Epoch 10/30\n",
      "100/100 - 16s - loss: 0.1655 - acc: 0.9355 - val_loss: 0.1733 - val_acc: 0.9330\n",
      "Epoch 11/30\n",
      "100/100 - 16s - loss: 0.1574 - acc: 0.9350 - val_loss: 0.2770 - val_acc: 0.8950\n",
      "Epoch 12/30\n",
      "100/100 - 16s - loss: 0.1486 - acc: 0.9410 - val_loss: 0.1938 - val_acc: 0.9220\n",
      "Epoch 13/30\n",
      "100/100 - 16s - loss: 0.1438 - acc: 0.9415 - val_loss: 0.2141 - val_acc: 0.9270\n",
      "Epoch 14/30\n",
      "100/100 - 16s - loss: 0.1380 - acc: 0.9435 - val_loss: 0.1449 - val_acc: 0.9440\n",
      "Epoch 15/30\n",
      "100/100 - 16s - loss: 0.1303 - acc: 0.9480 - val_loss: 0.1984 - val_acc: 0.9300\n",
      "Epoch 16/30\n",
      "100/100 - 16s - loss: 0.1027 - acc: 0.9590 - val_loss: 0.1510 - val_acc: 0.9370\n",
      "Epoch 17/30\n",
      "100/100 - 16s - loss: 0.1192 - acc: 0.9535 - val_loss: 0.2135 - val_acc: 0.9300\n",
      "Epoch 18/30\n",
      "100/100 - 16s - loss: 0.1118 - acc: 0.9575 - val_loss: 0.1767 - val_acc: 0.9390\n",
      "Epoch 19/30\n",
      "100/100 - 16s - loss: 0.1093 - acc: 0.9595 - val_loss: 0.1605 - val_acc: 0.9440\n",
      "Epoch 20/30\n",
      "100/100 - 16s - loss: 0.0999 - acc: 0.9600 - val_loss: 0.3120 - val_acc: 0.9080\n",
      "Epoch 21/30\n",
      "100/100 - 16s - loss: 0.1035 - acc: 0.9595 - val_loss: 0.1511 - val_acc: 0.9430\n",
      "Epoch 22/30\n",
      "100/100 - 16s - loss: 0.0791 - acc: 0.9710 - val_loss: 0.1473 - val_acc: 0.9430\n",
      "Epoch 23/30\n",
      "100/100 - 16s - loss: 0.0905 - acc: 0.9640 - val_loss: 0.1959 - val_acc: 0.9390\n",
      "Epoch 24/30\n",
      "100/100 - 16s - loss: 0.0808 - acc: 0.9685 - val_loss: 0.1681 - val_acc: 0.9460\n",
      "Epoch 25/30\n",
      "100/100 - 16s - loss: 0.0713 - acc: 0.9725 - val_loss: 0.1982 - val_acc: 0.9280\n",
      "Epoch 26/30\n",
      "100/100 - 16s - loss: 0.0752 - acc: 0.9725 - val_loss: 0.1897 - val_acc: 0.9470\n",
      "Epoch 27/30\n",
      "100/100 - 16s - loss: 0.0621 - acc: 0.9780 - val_loss: 0.2069 - val_acc: 0.9350\n",
      "Epoch 28/30\n",
      "100/100 - 16s - loss: 0.0782 - acc: 0.9720 - val_loss: 0.2056 - val_acc: 0.9410\n",
      "Epoch 29/30\n",
      "100/100 - 16s - loss: 0.0704 - acc: 0.9735 - val_loss: 0.3015 - val_acc: 0.9310\n",
      "Epoch 30/30\n",
      "100/100 - 16s - loss: 0.0659 - acc: 0.9760 - val_loss: 0.1894 - val_acc: 0.9290\n"
     ]
    }
   ],
   "source": [
    "# Train the model\n",
    "\n",
    "history = model.fit(train_generator,\n",
    "                    steps_per_epoch=100,\n",
    "                    epochs=30,\n",
    "                    validation_data=validation_generator,\n",
    "                    validation_steps=50,\n",
    "                    verbose=2)"
   ]
  },
  {
   "cell_type": "code",
   "execution_count": 8,
   "metadata": {},
   "outputs": [
    {
     "name": "stdout",
     "output_type": "stream",
     "text": [
      "Epoch 1/50\n",
      "100/100 [==============================] - 16s 163ms/step - loss: 0.0478 - acc: 0.9825 - val_loss: 0.2270 - val_acc: 0.9420\n",
      "Epoch 2/50\n",
      "100/100 [==============================] - 16s 162ms/step - loss: 0.0491 - acc: 0.9820 - val_loss: 0.2409 - val_acc: 0.9420\n",
      "Epoch 3/50\n",
      "100/100 [==============================] - 16s 161ms/step - loss: 0.0430 - acc: 0.9850 - val_loss: 0.1803 - val_acc: 0.9430\n",
      "Epoch 4/50\n",
      "100/100 [==============================] - 16s 161ms/step - loss: 0.0439 - acc: 0.9835 - val_loss: 0.2570 - val_acc: 0.9350\n",
      "Epoch 5/50\n",
      "100/100 [==============================] - 16s 161ms/step - loss: 0.0402 - acc: 0.9895 - val_loss: 0.2403 - val_acc: 0.9380\n",
      "Epoch 6/50\n",
      "100/100 [==============================] - 16s 160ms/step - loss: 0.0467 - acc: 0.9805 - val_loss: 0.3038 - val_acc: 0.9220\n",
      "Epoch 7/50\n",
      "100/100 [==============================] - 16s 162ms/step - loss: 0.0375 - acc: 0.9880 - val_loss: 0.1847 - val_acc: 0.9480\n",
      "Epoch 8/50\n",
      "100/100 [==============================] - 16s 162ms/step - loss: 0.0361 - acc: 0.9860 - val_loss: 0.2246 - val_acc: 0.9400\n",
      "Epoch 9/50\n",
      "100/100 [==============================] - 16s 161ms/step - loss: 0.0408 - acc: 0.9835 - val_loss: 0.2020 - val_acc: 0.9420\n",
      "Epoch 10/50\n",
      "100/100 [==============================] - 16s 161ms/step - loss: 0.0369 - acc: 0.9865 - val_loss: 0.2746 - val_acc: 0.9340\n",
      "Epoch 11/50\n",
      "100/100 [==============================] - 16s 161ms/step - loss: 0.0384 - acc: 0.9855 - val_loss: 0.1964 - val_acc: 0.9410\n",
      "Epoch 12/50\n",
      "100/100 [==============================] - 16s 161ms/step - loss: 0.0392 - acc: 0.9845 - val_loss: 0.2086 - val_acc: 0.9400\n",
      "Epoch 13/50\n",
      "100/100 [==============================] - 16s 161ms/step - loss: 0.0309 - acc: 0.9890 - val_loss: 0.3428 - val_acc: 0.9320\n",
      "Epoch 14/50\n",
      "100/100 [==============================] - 16s 161ms/step - loss: 0.0399 - acc: 0.9855 - val_loss: 0.2257 - val_acc: 0.9430\n",
      "Epoch 15/50\n",
      "100/100 [==============================] - 16s 161ms/step - loss: 0.0329 - acc: 0.9870 - val_loss: 0.2260 - val_acc: 0.9400\n",
      "Epoch 16/50\n",
      "100/100 [==============================] - 16s 161ms/step - loss: 0.0321 - acc: 0.9905 - val_loss: 0.2164 - val_acc: 0.9430\n",
      "Epoch 17/50\n",
      "100/100 [==============================] - 16s 161ms/step - loss: 0.0246 - acc: 0.9920 - val_loss: 0.2045 - val_acc: 0.9420\n",
      "Epoch 18/50\n",
      "100/100 [==============================] - 16s 162ms/step - loss: 0.0300 - acc: 0.9885 - val_loss: 0.2803 - val_acc: 0.9370\n",
      "Epoch 19/50\n",
      "100/100 [==============================] - 16s 161ms/step - loss: 0.0281 - acc: 0.9895 - val_loss: 0.2217 - val_acc: 0.9400\n",
      "Epoch 20/50\n",
      "100/100 [==============================] - 16s 161ms/step - loss: 0.0212 - acc: 0.9940 - val_loss: 0.2264 - val_acc: 0.9420\n",
      "Epoch 21/50\n",
      "100/100 [==============================] - 16s 162ms/step - loss: 0.0415 - acc: 0.9885 - val_loss: 0.2230 - val_acc: 0.9350\n",
      "Epoch 22/50\n",
      "100/100 [==============================] - 16s 161ms/step - loss: 0.0255 - acc: 0.9920 - val_loss: 0.2575 - val_acc: 0.9360\n",
      "Epoch 23/50\n",
      "100/100 [==============================] - 16s 162ms/step - loss: 0.0286 - acc: 0.9905 - val_loss: 0.3036 - val_acc: 0.9350\n",
      "Epoch 24/50\n",
      "100/100 [==============================] - 16s 162ms/step - loss: 0.0239 - acc: 0.9900 - val_loss: 0.3016 - val_acc: 0.9410\n",
      "Epoch 25/50\n",
      "100/100 [==============================] - 16s 161ms/step - loss: 0.0215 - acc: 0.9930 - val_loss: 0.2379 - val_acc: 0.9360\n",
      "Epoch 26/50\n",
      "100/100 [==============================] - 16s 162ms/step - loss: 0.0217 - acc: 0.9930 - val_loss: 0.2782 - val_acc: 0.9400\n",
      "Epoch 27/50\n",
      "100/100 [==============================] - 16s 162ms/step - loss: 0.0203 - acc: 0.9930 - val_loss: 0.2583 - val_acc: 0.9380\n",
      "Epoch 28/50\n",
      "100/100 [==============================] - 16s 162ms/step - loss: 0.0241 - acc: 0.9905 - val_loss: 0.2740 - val_acc: 0.9350\n",
      "Epoch 29/50\n",
      "100/100 [==============================] - 16s 162ms/step - loss: 0.0289 - acc: 0.9905 - val_loss: 0.2967 - val_acc: 0.9380\n",
      "Epoch 30/50\n",
      "100/100 [==============================] - 16s 162ms/step - loss: 0.0231 - acc: 0.9905 - val_loss: 0.2501 - val_acc: 0.9380\n",
      "Epoch 31/50\n",
      "100/100 [==============================] - 16s 162ms/step - loss: 0.0358 - acc: 0.9850 - val_loss: 0.2606 - val_acc: 0.9400\n",
      "Epoch 32/50\n",
      "100/100 [==============================] - 16s 162ms/step - loss: 0.0182 - acc: 0.9940 - val_loss: 0.2980 - val_acc: 0.9340\n",
      "Epoch 33/50\n",
      "100/100 [==============================] - 16s 162ms/step - loss: 0.0366 - acc: 0.9880 - val_loss: 0.2513 - val_acc: 0.9400\n",
      "Epoch 34/50\n",
      "100/100 [==============================] - 16s 164ms/step - loss: 0.0284 - acc: 0.9905 - val_loss: 0.2730 - val_acc: 0.9390\n",
      "Epoch 35/50\n",
      "100/100 [==============================] - 17s 165ms/step - loss: 0.0180 - acc: 0.9940 - val_loss: 0.2972 - val_acc: 0.9430\n",
      "Epoch 36/50\n",
      "100/100 [==============================] - 16s 163ms/step - loss: 0.0271 - acc: 0.9940 - val_loss: 0.2289 - val_acc: 0.9450\n",
      "Epoch 37/50\n",
      "100/100 [==============================] - 16s 162ms/step - loss: 0.0250 - acc: 0.9940 - val_loss: 0.3408 - val_acc: 0.9390\n",
      "Epoch 38/50\n",
      "100/100 [==============================] - 16s 162ms/step - loss: 0.0253 - acc: 0.9915 - val_loss: 0.2659 - val_acc: 0.9410\n",
      "Epoch 39/50\n",
      "100/100 [==============================] - 16s 162ms/step - loss: 0.0352 - acc: 0.9905 - val_loss: 0.2060 - val_acc: 0.9420\n",
      "Epoch 40/50\n",
      "100/100 [==============================] - 16s 163ms/step - loss: 0.0163 - acc: 0.9935 - val_loss: 0.3143 - val_acc: 0.9320\n",
      "Epoch 41/50\n",
      "100/100 [==============================] - 16s 163ms/step - loss: 0.0277 - acc: 0.9910 - val_loss: 0.2230 - val_acc: 0.9400\n",
      "Epoch 42/50\n",
      "100/100 [==============================] - 16s 162ms/step - loss: 0.0230 - acc: 0.9930 - val_loss: 0.3088 - val_acc: 0.9340\n",
      "Epoch 43/50\n",
      "100/100 [==============================] - 16s 162ms/step - loss: 0.0247 - acc: 0.9935 - val_loss: 0.3210 - val_acc: 0.9410\n",
      "Epoch 44/50\n",
      "100/100 [==============================] - 16s 165ms/step - loss: 0.0185 - acc: 0.9940 - val_loss: 0.2289 - val_acc: 0.9520\n",
      "Epoch 45/50\n",
      "100/100 [==============================] - 16s 164ms/step - loss: 0.0248 - acc: 0.9930 - val_loss: 0.3442 - val_acc: 0.9420\n",
      "Epoch 46/50\n",
      "100/100 [==============================] - 16s 163ms/step - loss: 0.0191 - acc: 0.9930 - val_loss: 0.3031 - val_acc: 0.9430\n",
      "Epoch 47/50\n",
      "100/100 [==============================] - 16s 161ms/step - loss: 0.0319 - acc: 0.9905 - val_loss: 0.2772 - val_acc: 0.9350\n",
      "Epoch 48/50\n",
      "100/100 [==============================] - 16s 163ms/step - loss: 0.0161 - acc: 0.9950 - val_loss: 0.2916 - val_acc: 0.9450\n",
      "Epoch 49/50\n",
      "100/100 [==============================] - 16s 162ms/step - loss: 0.0196 - acc: 0.9905 - val_loss: 0.2919 - val_acc: 0.9420\n",
      "Epoch 50/50\n",
      "100/100 [==============================] - 16s 162ms/step - loss: 0.0212 - acc: 0.9925 - val_loss: 0.2672 - val_acc: 0.9340\n"
     ]
    }
   ],
   "source": [
    "from keras import optimizers\n",
    "\n",
    "model.compile(loss='binary_crossentropy',\n",
    "              optimizer=optimizers.RMSprop(lr=1e-5),\n",
    "              metrics=['acc'])\n",
    "\n",
    "history = model.fit(train_generator,\n",
    "                    steps_per_epoch=100,\n",
    "                    epochs=50,\n",
    "                    validation_data=validation_generator,\n",
    "                    validation_steps=50)"
   ]
  },
  {
   "cell_type": "code",
   "execution_count": 9,
   "metadata": {},
   "outputs": [],
   "source": [
    "model.save('/home/mic/Documents/keras_vgg16_tf2/cats_and_dogs_small_2.h5')"
   ]
  },
  {
   "cell_type": "code",
   "execution_count": 10,
   "metadata": {},
   "outputs": [
    {
     "data": {
      "image/png": "[encoded data removed]",
      "text/plain": [
       "<Figure size 432x288 with 1 Axes>"
      ]
     },
     "metadata": {
      "needs_background": "light"
     },
     "output_type": "display_data"
    },
    {
     "data": {
      "image/png": "[encoded data removed]",
      "text/plain": [
       "<Figure size 432x288 with 1 Axes>"
      ]
     },
     "metadata": {
      "needs_background": "light"
     },
     "output_type": "display_data"
    }
   ],
   "source": [
    "import matplotlib.pyplot as plt\n",
    "\n",
    "acc = history.history['acc']\n",
    "val_acc = history.history['val_acc']\n",
    "loss = history.history['loss']\n",
    "val_loss = history.history['val_loss']\n",
    "\n",
    "epochs = range(len(acc))\n",
    "\n",
    "plt.plot(epochs, acc, 'bo', label='Training acc')\n",
    "plt.plot(epochs, val_acc, 'b', label='Validation acc')\n",
    "plt.title('Training and validation accuracy')\n",
    "plt.legend()\n",
    "\n",
    "plt.figure()\n",
    "\n",
    "plt.plot(epochs, loss, 'bo', label='Training loss')\n",
    "plt.plot(epochs, val_loss, 'b', label='Validation loss')\n",
    "plt.title('Training and validation loss')\n",
    "plt.legend()\n",
    "\n",
    "plt.show()"
   ]
  },
  {
   "cell_type": "code",
   "execution_count": 11,
   "metadata": {},
   "outputs": [
    {
     "data": {
      "image/png": "[encoded data removed]",
      "text/plain": [
       "<Figure size 432x288 with 1 Axes>"
      ]
     },
     "metadata": {
      "needs_background": "light"
     },
     "output_type": "display_data"
    },
    {
     "data": {
      "image/png": "[encoded data removed]",
      "text/plain": [
       "<Figure size 432x288 with 1 Axes>"
      ]
     },
     "metadata": {
      "needs_background": "light"
     },
     "output_type": "display_data"
    }
   ],
   "source": [
    "def smooth_curve(points, factor=0.8):\n",
    "  smoothed_points = []\n",
    "  for point in points:\n",
    "    if smoothed_points:\n",
    "      previous = smoothed_points[-1]\n",
    "      smoothed_points.append(previous * factor + point * (1 - factor))\n",
    "    else:\n",
    "      smoothed_points.append(point)\n",
    "  return smoothed_points\n",
    "\n",
    "plt.plot(epochs,\n",
    "         smooth_curve(acc), 'bo', label='Smoothed training acc')\n",
    "plt.plot(epochs,\n",
    "         smooth_curve(val_acc), 'b', label='Smoothed validation acc')\n",
    "plt.title('Training and validation accuracy')\n",
    "plt.legend()\n",
    "\n",
    "plt.figure()\n",
    "\n",
    "plt.plot(epochs,\n",
    "         smooth_curve(loss), 'bo', label='Smoothed training loss')\n",
    "plt.plot(epochs,\n",
    "         smooth_curve(val_loss), 'b', label='Smoothed validation loss')\n",
    "plt.title('Training and validation loss')\n",
    "plt.legend()\n",
    "\n",
    "plt.show()"
   ]
  },
  {
   "cell_type": "code",
   "execution_count": 12,
   "metadata": {},
   "outputs": [
    {
     "name": "stdout",
     "output_type": "stream",
     "text": [
      "Found 1000 images belonging to 2 classes.\n",
      "WARNING:tensorflow:From <ipython-input-12-19f8443b6c42>:7: Model.evaluate_generator (from tensorflow.python.keras.engine.training) is deprecated and will be removed in a future version.\n",
      "Instructions for updating:\n",
      "Please use Model.evaluate, which supports generators.\n",
      "test acc: 0.9409999847412109\n"
     ]
    }
   ],
   "source": [
    "test_generator = test_datagen.flow_from_directory(\n",
    "        test_dir,\n",
    "        target_size=(150, 150),\n",
    "        batch_size=20,\n",
    "        class_mode='binary')\n",
    "\n",
    "test_loss, test_acc = model.evaluate_generator(test_generator, steps=50)\n",
    "print('test acc:', test_acc)"
   ]
  }
 ],
 "metadata": {
  "kernelspec": {
   "display_name": "Python 3",
   "language": "python",
   "name": "python3"
  },
  "language_info": {
   "codemirror_mode": {
    "name": "ipython",
    "version": 3
   },
   "file_extension": ".py",
   "mimetype": "text/x-python",
   "name": "python",
   "nbconvert_exporter": "python",
   "pygments_lexer": "ipython3",
   "version": "3.7.7"
  }
 },
 "nbformat": 4,
 "nbformat_minor": 2
}
