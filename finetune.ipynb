{
 "cells": [
  {
   "cell_type": "code",
   "execution_count": 1,
   "metadata": {},
   "outputs": [],
   "source": [
    "# Load the TensorBoard notebook extension\n",
    "%load_ext tensorboard"
   ]
  },
  {
   "cell_type": "code",
   "execution_count": 2,
   "metadata": {},
   "outputs": [],
   "source": [
    "# Set the GPU growth to avoid the event \"Failed to get convolution algorithm\"\n",
    "\n",
    "import tensorflow as tf\n",
    "\n",
    "gpus = tf.config.experimental.list_physical_devices('GPU')\n",
    "for gpu in gpus:\n",
    "    tf.config.experimental.set_memory_growth(gpu, True)"
   ]
  },
  {
   "cell_type": "code",
   "execution_count": 3,
   "metadata": {},
   "outputs": [],
   "source": [
    "from keras.applications import VGG16\n",
    "\n",
    "conv_base = VGG16(weights='imagenet',\n",
    "                  include_top=False,\n",
    "                  input_shape=(150, 150, 3))"
   ]
  },
  {
   "cell_type": "code",
   "execution_count": 4,
   "metadata": {},
   "outputs": [
    {
     "name": "stdout",
     "output_type": "stream",
     "text": [
      "Model: \"vgg16\"\n",
      "_________________________________________________________________\n",
      "Layer (type)                 Output Shape              Param #   \n",
      "=================================================================\n",
      "input_1 (InputLayer)         [(None, 150, 150, 3)]     0         \n",
      "_________________________________________________________________\n",
      "block1_conv1 (Conv2D)        (None, 150, 150, 64)      1792      \n",
      "_________________________________________________________________\n",
      "block1_conv2 (Conv2D)        (None, 150, 150, 64)      36928     \n",
      "_________________________________________________________________\n",
      "block1_pool (MaxPooling2D)   (None, 75, 75, 64)        0         \n",
      "_________________________________________________________________\n",
      "block2_conv1 (Conv2D)        (None, 75, 75, 128)       73856     \n",
      "_________________________________________________________________\n",
      "block2_conv2 (Conv2D)        (None, 75, 75, 128)       147584    \n",
      "_________________________________________________________________\n",
      "block2_pool (MaxPooling2D)   (None, 37, 37, 128)       0         \n",
      "_________________________________________________________________\n",
      "block3_conv1 (Conv2D)        (None, 37, 37, 256)       295168    \n",
      "_________________________________________________________________\n",
      "block3_conv2 (Conv2D)        (None, 37, 37, 256)       590080    \n",
      "_________________________________________________________________\n",
      "block3_conv3 (Conv2D)        (None, 37, 37, 256)       590080    \n",
      "_________________________________________________________________\n",
      "block3_pool (MaxPooling2D)   (None, 18, 18, 256)       0         \n",
      "_________________________________________________________________\n",
      "block4_conv1 (Conv2D)        (None, 18, 18, 512)       1180160   \n",
      "_________________________________________________________________\n",
      "block4_conv2 (Conv2D)        (None, 18, 18, 512)       2359808   \n",
      "_________________________________________________________________\n",
      "block4_conv3 (Conv2D)        (None, 18, 18, 512)       2359808   \n",
      "_________________________________________________________________\n",
      "block4_pool (MaxPooling2D)   (None, 9, 9, 512)         0         \n",
      "_________________________________________________________________\n",
      "block5_conv1 (Conv2D)        (None, 9, 9, 512)         2359808   \n",
      "_________________________________________________________________\n",
      "block5_conv2 (Conv2D)        (None, 9, 9, 512)         2359808   \n",
      "_________________________________________________________________\n",
      "block5_conv3 (Conv2D)        (None, 9, 9, 512)         2359808   \n",
      "_________________________________________________________________\n",
      "block5_pool (MaxPooling2D)   (None, 4, 4, 512)         0         \n",
      "=================================================================\n",
      "Total params: 14,714,688\n",
      "Trainable params: 14,714,688\n",
      "Non-trainable params: 0\n",
      "_________________________________________________________________\n"
     ]
    }
   ],
   "source": [
    "conv_base.summary()"
   ]
  },
  {
   "cell_type": "code",
   "execution_count": 5,
   "metadata": {},
   "outputs": [
    {
     "name": "stdout",
     "output_type": "stream",
     "text": [
      "Model: \"sequential\"\n",
      "_________________________________________________________________\n",
      "Layer (type)                 Output Shape              Param #   \n",
      "=================================================================\n",
      "vgg16 (Model)                (None, 4, 4, 512)         14714688  \n",
      "_________________________________________________________________\n",
      "flatten (Flatten)            (None, 8192)              0         \n",
      "_________________________________________________________________\n",
      "dense (Dense)                (None, 256)               2097408   \n",
      "_________________________________________________________________\n",
      "dense_1 (Dense)              (None, 1)                 257       \n",
      "=================================================================\n",
      "Total params: 16,812,353\n",
      "Trainable params: 16,812,353\n",
      "Non-trainable params: 0\n",
      "_________________________________________________________________\n"
     ]
    }
   ],
   "source": [
    "from keras import models\n",
    "from keras import layers\n",
    "\n",
    "model = models.Sequential()\n",
    "model.add(conv_base)\n",
    "model.add(layers.Flatten())\n",
    "model.add(layers.Dense(256, activation='relu'))\n",
    "model.add(layers.Dense(1, activation='sigmoid'))\n",
    "model.summary()"
   ]
  },
  {
   "cell_type": "code",
   "execution_count": 6,
   "metadata": {},
   "outputs": [
    {
     "name": "stdout",
     "output_type": "stream",
     "text": [
      "This is the number of trainable weights before freezing the conv base: 30\n"
     ]
    }
   ],
   "source": [
    "print('This is the number of trainable weights '\n",
    "      'before freezing the conv base:', len(model.trainable_weights))"
   ]
  },
  {
   "cell_type": "code",
   "execution_count": 7,
   "metadata": {},
   "outputs": [],
   "source": [
    "# Free the conv_base before the training \n",
    "conv_base.trainable = False"
   ]
  },
  {
   "cell_type": "raw",
   "metadata": {},
   "source": [
    "print('This is the number of trainable weights '\n",
    "      'after freezing the conv base:', len(model.trainable_weights))"
   ]
  },
  {
   "cell_type": "code",
   "execution_count": 8,
   "metadata": {},
   "outputs": [
    {
     "name": "stdout",
     "output_type": "stream",
     "text": [
      "Found 2000 images belonging to 2 classes.\n",
      "Found 1000 images belonging to 2 classes.\n"
     ]
    }
   ],
   "source": [
    "import os\n",
    "import numpy as np\n",
    "from keras.preprocessing.image import ImageDataGenerator\n",
    "\n",
    "\n",
    "train_dir = '/home/mike/Documents/keras_vgg16_tf2/cats_and_dogs_small/train'\n",
    "validation_dir = '/home/mike/Documents/keras_vgg16_tf2/cats_and_dogs_small/validation'\n",
    "test_dir = '/home/mike/Documents/keras_vgg16_tf2/cats_and_dogs_small/test'\n",
    "\n",
    "train_datagen = ImageDataGenerator(\n",
    "      rescale=1./255,\n",
    "      rotation_range=40,\n",
    "      width_shift_range=0.2,\n",
    "      height_shift_range=0.2,\n",
    "      shear_range=0.2,\n",
    "      zoom_range=0.2,\n",
    "      horizontal_flip=True,\n",
    "      fill_mode='nearest')\n",
    "\n",
    "# Note that the validation data should not be augmented!\n",
    "test_datagen = ImageDataGenerator(rescale=1./255)\n",
    "\n",
    "train_generator = train_datagen.flow_from_directory(\n",
    "        # This is the target directory\n",
    "        train_dir,\n",
    "        # All images will be resized to 150x150\n",
    "        target_size=(150, 150),\n",
    "        batch_size=20,\n",
    "        # Since we use binary_crossentropy loss, we need binary labels\n",
    "        class_mode='binary')\n",
    "\n",
    "validation_generator = test_datagen.flow_from_directory(\n",
    "        validation_dir,\n",
    "        target_size=(150, 150),\n",
    "        batch_size=20,\n",
    "        class_mode='binary')"
   ]
  },
  {
   "cell_type": "code",
   "execution_count": 9,
   "metadata": {},
   "outputs": [],
   "source": [
    "conv_base.trainable = True\n",
    "\n",
    "set_trainable = False\n",
    "for layer in conv_base.layers:\n",
    "    if layer.name == 'block5_conv1':\n",
    "        set_trainable = True\n",
    "    if set_trainable:\n",
    "        layer.trainable = True\n",
    "    else:\n",
    "        layer.trainable = False"
   ]
  },
  {
   "cell_type": "code",
   "execution_count": 10,
   "metadata": {},
   "outputs": [],
   "source": [
    "# Compile the model \n",
    "from keras import optimizers\n",
    "\n",
    "model.compile(loss='binary_crossentropy',\n",
    "              optimizer=optimizers.RMSprop(lr=1e-5),\n",
    "              metrics=['acc'])"
   ]
  },
  {
   "cell_type": "code",
   "execution_count": 11,
   "metadata": {},
   "outputs": [],
   "source": [
    "# Start Tensorboard --logdir logs/fit\n",
    "import datetime\n",
    "\n",
    "log_dir=\"logs/fit/\" + datetime.datetime.now().strftime(\"%Y%m%d-%H%M%S\")\n",
    "tensorboard_callback = tf.keras.callbacks.TensorBoard(log_dir=log_dir)\n",
    "callback_list = [tensorboard_callback]"
   ]
  },
  {
   "cell_type": "code",
   "execution_count": 12,
   "metadata": {},
   "outputs": [
    {
     "name": "stdout",
     "output_type": "stream",
     "text": [
      "Epoch 1/30\n",
      "100/100 [==============================] - 14s 136ms/step - loss: 0.5566 - acc: 0.7130 - val_loss: 0.3560 - val_acc: 0.8660\n",
      "Epoch 2/30\n",
      "100/100 [==============================] - 12s 118ms/step - loss: 0.3822 - acc: 0.8285 - val_loss: 0.2503 - val_acc: 0.9000\n",
      "Epoch 3/30\n",
      "100/100 [==============================] - 12s 117ms/step - loss: 0.3161 - acc: 0.8685 - val_loss: 0.2319 - val_acc: 0.9030\n",
      "Epoch 4/30\n",
      "100/100 [==============================] - 12s 117ms/step - loss: 0.2851 - acc: 0.8810 - val_loss: 0.2095 - val_acc: 0.9080\n",
      "Epoch 5/30\n",
      "100/100 [==============================] - 12s 118ms/step - loss: 0.2713 - acc: 0.8830 - val_loss: 0.1941 - val_acc: 0.9160\n",
      "Epoch 6/30\n",
      "100/100 [==============================] - 12s 118ms/step - loss: 0.2466 - acc: 0.8985 - val_loss: 0.1872 - val_acc: 0.9200\n",
      "Epoch 7/30\n",
      "100/100 [==============================] - 12s 117ms/step - loss: 0.2423 - acc: 0.9015 - val_loss: 0.1961 - val_acc: 0.9160\n",
      "Epoch 8/30\n",
      "100/100 [==============================] - 12s 118ms/step - loss: 0.2173 - acc: 0.9060 - val_loss: 0.1691 - val_acc: 0.9420\n",
      "Epoch 9/30\n",
      "100/100 [==============================] - 12s 118ms/step - loss: 0.2061 - acc: 0.9200 - val_loss: 0.1927 - val_acc: 0.9220\n",
      "Epoch 10/30\n",
      "100/100 [==============================] - 12s 118ms/step - loss: 0.2025 - acc: 0.9105 - val_loss: 0.1648 - val_acc: 0.9380\n",
      "Epoch 11/30\n",
      "100/100 [==============================] - 12s 119ms/step - loss: 0.1926 - acc: 0.9185 - val_loss: 0.1897 - val_acc: 0.9300\n",
      "Epoch 12/30\n",
      "100/100 [==============================] - 12s 119ms/step - loss: 0.1858 - acc: 0.9295 - val_loss: 0.2011 - val_acc: 0.9080\n",
      "Epoch 13/30\n",
      "100/100 [==============================] - 12s 120ms/step - loss: 0.1852 - acc: 0.9265 - val_loss: 0.1539 - val_acc: 0.9380\n",
      "Epoch 14/30\n",
      "100/100 [==============================] - 12s 120ms/step - loss: 0.1732 - acc: 0.9295 - val_loss: 0.1782 - val_acc: 0.9300\n",
      "Epoch 15/30\n",
      "100/100 [==============================] - 12s 118ms/step - loss: 0.1595 - acc: 0.9340 - val_loss: 0.1689 - val_acc: 0.9310\n",
      "Epoch 16/30\n",
      "100/100 [==============================] - 12s 118ms/step - loss: 0.1615 - acc: 0.9330 - val_loss: 0.1606 - val_acc: 0.9280\n",
      "Epoch 17/30\n",
      "100/100 [==============================] - 12s 118ms/step - loss: 0.1528 - acc: 0.9400 - val_loss: 0.1665 - val_acc: 0.9350\n",
      "Epoch 18/30\n",
      "100/100 [==============================] - 12s 117ms/step - loss: 0.1522 - acc: 0.9345 - val_loss: 0.1616 - val_acc: 0.9310\n",
      "Epoch 19/30\n",
      "100/100 [==============================] - 12s 117ms/step - loss: 0.1428 - acc: 0.9435 - val_loss: 0.1553 - val_acc: 0.9270\n",
      "Epoch 20/30\n",
      "100/100 [==============================] - 12s 117ms/step - loss: 0.1451 - acc: 0.9380 - val_loss: 0.1645 - val_acc: 0.9350\n",
      "Epoch 21/30\n",
      "100/100 [==============================] - 12s 117ms/step - loss: 0.1293 - acc: 0.9520 - val_loss: 0.1654 - val_acc: 0.9320\n",
      "Epoch 22/30\n",
      "100/100 [==============================] - 12s 118ms/step - loss: 0.1266 - acc: 0.9435 - val_loss: 0.1605 - val_acc: 0.9360\n",
      "Epoch 23/30\n",
      "100/100 [==============================] - 12s 118ms/step - loss: 0.1150 - acc: 0.9535 - val_loss: 0.1558 - val_acc: 0.9370\n",
      "Epoch 24/30\n",
      "100/100 [==============================] - 12s 118ms/step - loss: 0.1214 - acc: 0.9480 - val_loss: 0.1627 - val_acc: 0.9370\n",
      "Epoch 25/30\n",
      "100/100 [==============================] - 12s 117ms/step - loss: 0.1067 - acc: 0.9570 - val_loss: 0.1754 - val_acc: 0.9390\n",
      "Epoch 26/30\n",
      "100/100 [==============================] - 12s 117ms/step - loss: 0.1141 - acc: 0.9565 - val_loss: 0.1480 - val_acc: 0.9400\n",
      "Epoch 27/30\n",
      "100/100 [==============================] - 12s 118ms/step - loss: 0.1181 - acc: 0.9540 - val_loss: 0.1481 - val_acc: 0.9340\n",
      "Epoch 28/30\n",
      "100/100 [==============================] - 12s 117ms/step - loss: 0.1128 - acc: 0.9535 - val_loss: 0.1843 - val_acc: 0.9300\n",
      "Epoch 29/30\n",
      "100/100 [==============================] - 12s 118ms/step - loss: 0.0982 - acc: 0.9590 - val_loss: 0.1622 - val_acc: 0.9410\n",
      "Epoch 30/30\n",
      "100/100 [==============================] - 12s 117ms/step - loss: 0.1029 - acc: 0.9610 - val_loss: 0.1467 - val_acc: 0.9390\n"
     ]
    }
   ],
   "source": [
    "# Train the fintuned model\n",
    "history = model.fit(train_generator,\n",
    "                    steps_per_epoch=100,\n",
    "                    epochs=30,\n",
    "                    validation_data=validation_generator,\n",
    "                    validation_steps=50,\n",
    "                    callbacks=callback_list)"
   ]
  },
  {
   "cell_type": "code",
   "execution_count": 13,
   "metadata": {},
   "outputs": [
    {
     "data": {
      "text/html": [
       "\n",
       "      <iframe id=\"tensorboard-frame-1d12e0b517ad159e\" width=\"100%\" height=\"800\" frameborder=\"0\">\n",
       "      </iframe>\n",
       "      <script>\n",
       "        (function() {\n",
       "          const frame = document.getElementById(\"tensorboard-frame-1d12e0b517ad159e\");\n",
       "          const url = new URL(\"/\", window.location);\n",
       "          url.port = 6006;\n",
       "          frame.src = url;\n",
       "        })();\n",
       "      </script>\n",
       "  "
      ],
      "text/plain": [
       "<IPython.core.display.HTML object>"
      ]
     },
     "metadata": {},
     "output_type": "display_data"
    }
   ],
   "source": [
    "# Show the tensorboard in the Linux terminal \n",
    "%tensorboard --logdir logs/fit"
   ]
  },
  {
   "cell_type": "code",
   "execution_count": 14,
   "metadata": {},
   "outputs": [],
   "source": [
    "model.save('/home/mike/Documents/keras_vgg16_tf2/cats_and_dogs_small_4.h5')"
   ]
  },
  {
   "cell_type": "code",
   "execution_count": 15,
   "metadata": {},
   "outputs": [
    {
     "data": {
      "image/png": "[encoded data removed]",
      "text/plain": [
       "<Figure size 432x288 with 1 Axes>"
      ]
     },
     "metadata": {
      "needs_background": "light"
     },
     "output_type": "display_data"
    },
    {
     "data": {
      "image/png": "[encoded data removed]",
      "text/plain": [
       "<Figure size 432x288 with 1 Axes>"
      ]
     },
     "metadata": {
      "needs_background": "light"
     },
     "output_type": "display_data"
    }
   ],
   "source": [
    "import matplotlib.pyplot as plt\n",
    "\n",
    "acc = history.history['acc']\n",
    "val_acc = history.history['val_acc']\n",
    "loss = history.history['loss']\n",
    "val_loss = history.history['val_loss']\n",
    "\n",
    "epochs = range(len(acc))\n",
    "\n",
    "plt.plot(epochs, acc, 'bo', label='Training acc')\n",
    "plt.plot(epochs, val_acc, 'b', label='Validation acc')\n",
    "plt.title('Training and validation accuracy')\n",
    "plt.legend()\n",
    "\n",
    "plt.figure()\n",
    "\n",
    "plt.plot(epochs, loss, 'bo', label='Training loss')\n",
    "plt.plot(epochs, val_loss, 'b', label='Validation loss')\n",
    "plt.title('Training and validation loss')\n",
    "plt.legend()\n",
    "\n",
    "plt.show()"
   ]
  },
  {
   "cell_type": "code",
   "execution_count": 16,
   "metadata": {},
   "outputs": [
    {
     "data": {
      "image/png": "[encoded data removed]",
      "text/plain": [
       "<Figure size 432x288 with 1 Axes>"
      ]
     },
     "metadata": {
      "needs_background": "light"
     },
     "output_type": "display_data"
    },
    {
     "data": {
      "image/png": "[encoded data removed]",
      "text/plain": [
       "<Figure size 432x288 with 1 Axes>"
      ]
     },
     "metadata": {
      "needs_background": "light"
     },
     "output_type": "display_data"
    }
   ],
   "source": [
    "def smooth_curve(points, factor=0.8):\n",
    "  smoothed_points = []\n",
    "  for point in points:\n",
    "    if smoothed_points:\n",
    "      previous = smoothed_points[-1]\n",
    "      smoothed_points.append(previous * factor + point * (1 - factor))\n",
    "    else:\n",
    "      smoothed_points.append(point)\n",
    "  return smoothed_points\n",
    "\n",
    "plt.plot(epochs,\n",
    "         smooth_curve(acc), 'bo', label='Smoothed training acc')\n",
    "plt.plot(epochs,\n",
    "         smooth_curve(val_acc), 'b', label='Smoothed validation acc')\n",
    "plt.title('Training and validation accuracy')\n",
    "plt.legend()\n",
    "\n",
    "plt.figure()\n",
    "\n",
    "plt.plot(epochs,\n",
    "         smooth_curve(loss), 'bo', label='Smoothed training loss')\n",
    "plt.plot(epochs,\n",
    "         smooth_curve(val_loss), 'b', label='Smoothed validation loss')\n",
    "plt.title('Training and validation loss')\n",
    "plt.legend()\n",
    "\n",
    "plt.show()"
   ]
  },
  {
   "cell_type": "code",
   "execution_count": 17,
   "metadata": {},
   "outputs": [
    {
     "name": "stdout",
     "output_type": "stream",
     "text": [
      "Found 1000 images belonging to 2 classes.\n",
      "WARNING:tensorflow:From <ipython-input-17-19f8443b6c42>:7: Model.evaluate_generator (from tensorflow.python.keras.engine.training) is deprecated and will be removed in a future version.\n",
      "Instructions for updating:\n",
      "Please use Model.evaluate, which supports generators.\n",
      "test acc: 0.9419999718666077\n"
     ]
    }
   ],
   "source": [
    "test_generator = test_datagen.flow_from_directory(\n",
    "        test_dir,\n",
    "        target_size=(150, 150),\n",
    "        batch_size=20,\n",
    "        class_mode='binary')\n",
    "\n",
    "test_loss, test_acc = model.evaluate_generator(test_generator, steps=50)\n",
    "print('test acc:', test_acc)"
   ]
  },
  {
   "cell_type": "code",
   "execution_count": 18,
   "metadata": {},
   "outputs": [],
   "source": [
    "# Release the GPU Memory\n",
    "from numba import cuda\n",
    "\n",
    "cuda.select_device(0)\n",
    "cuda.close()"
   ]
  }
 ],
 "metadata": {
  "kernelspec": {
   "display_name": "Python 3",
   "language": "python",
   "name": "python3"
  },
  "language_info": {
   "codemirror_mode": {
    "name": "ipython",
    "version": 3
   },
   "file_extension": ".py",
   "mimetype": "text/x-python",
   "name": "python",
   "nbconvert_exporter": "python",
   "pygments_lexer": "ipython3",
   "version": "3.7.7"
  }
 },
 "nbformat": 4,
 "nbformat_minor": 2
}
