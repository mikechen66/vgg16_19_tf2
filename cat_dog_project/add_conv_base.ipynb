{
 "cells": [
  {
   "cell_type": "code",
   "execution_count": 1,
   "metadata": {},
   "outputs": [],
   "source": [
    "# Set the GPU growth to avoid the event \"Failed to get convolution algorithm\"\n",
    "\n",
    "import tensorflow as tf\n",
    "\n",
    "gpus = tf.config.experimental.list_physical_devices('GPU')\n",
    "for gpu in gpus:\n",
    "    tf.config.experimental.set_memory_growth(gpu, True)"
   ]
  },
  {
   "cell_type": "code",
   "execution_count": 2,
   "metadata": {},
   "outputs": [],
   "source": [
    "from vgg16 import Vgg16\n",
    "\n",
    "model = Vgg16(input_shape=(150, 150, 3), num_classes=1)"
   ]
  },
  {
   "cell_type": "code",
   "execution_count": 3,
   "metadata": {},
   "outputs": [
    {
     "name": "stdout",
     "output_type": "stream",
     "text": [
      "Model: \"vgg16\"\n",
      "_________________________________________________________________\n",
      "Layer (type)                 Output Shape              Param #   \n",
      "=================================================================\n",
      "conv2d (Conv2D)              (None, 150, 150, 64)      1792      \n",
      "_________________________________________________________________\n",
      "conv2d_1 (Conv2D)            (None, 150, 150, 64)      36928     \n",
      "_________________________________________________________________\n",
      "max_pooling2d (MaxPooling2D) (None, 75, 75, 64)        0         \n",
      "_________________________________________________________________\n",
      "conv2d_2 (Conv2D)            (None, 75, 75, 128)       73856     \n",
      "_________________________________________________________________\n",
      "conv2d_3 (Conv2D)            (None, 75, 75, 128)       147584    \n",
      "_________________________________________________________________\n",
      "max_pooling2d_1 (MaxPooling2 (None, 37, 37, 128)       0         \n",
      "_________________________________________________________________\n",
      "conv2d_4 (Conv2D)            (None, 37, 37, 256)       295168    \n",
      "_________________________________________________________________\n",
      "conv2d_5 (Conv2D)            (None, 37, 37, 256)       590080    \n",
      "_________________________________________________________________\n",
      "conv2d_6 (Conv2D)            (None, 37, 37, 256)       590080    \n",
      "_________________________________________________________________\n",
      "max_pooling2d_2 (MaxPooling2 (None, 18, 18, 256)       0         \n",
      "_________________________________________________________________\n",
      "conv2d_7 (Conv2D)            (None, 18, 18, 512)       1180160   \n",
      "_________________________________________________________________\n",
      "conv2d_8 (Conv2D)            (None, 18, 18, 512)       2359808   \n",
      "_________________________________________________________________\n",
      "conv2d_9 (Conv2D)            (None, 18, 18, 512)       2359808   \n",
      "_________________________________________________________________\n",
      "max_pooling2d_3 (MaxPooling2 (None, 9, 9, 512)         0         \n",
      "_________________________________________________________________\n",
      "conv2d_10 (Conv2D)           (None, 9, 9, 512)         2359808   \n",
      "_________________________________________________________________\n",
      "conv2d_11 (Conv2D)           (None, 9, 9, 512)         2359808   \n",
      "_________________________________________________________________\n",
      "conv2d_12 (Conv2D)           (None, 9, 9, 512)         2359808   \n",
      "_________________________________________________________________\n",
      "max_pooling2d_4 (MaxPooling2 (None, 4, 4, 512)         0         \n",
      "_________________________________________________________________\n",
      "flatten (Flatten)            (None, 8192)              0         \n",
      "_________________________________________________________________\n",
      "dense (Dense)                (None, 4096)              33558528  \n",
      "_________________________________________________________________\n",
      "dense_1 (Dense)              (None, 4096)              16781312  \n",
      "_________________________________________________________________\n",
      "dense_2 (Dense)              (None, 1)                 4097      \n",
      "=================================================================\n",
      "Total params: 65,058,625\n",
      "Trainable params: 65,058,625\n",
      "Non-trainable params: 0\n",
      "_________________________________________________________________\n"
     ]
    }
   ],
   "source": [
    "model.summary()"
   ]
  },
  {
   "cell_type": "code",
   "execution_count": 4,
   "metadata": {},
   "outputs": [
    {
     "name": "stdout",
     "output_type": "stream",
     "text": [
      "Found 2000 images belonging to 2 classes.\n",
      "Found 1000 images belonging to 2 classes.\n"
     ]
    }
   ],
   "source": [
    "from keras.preprocessing.image import ImageDataGenerator\n",
    "\n",
    "\n",
    "train_dir = '/home/mike/Documents/keras_vgg16_tf2/cats_and_dogs_small/train'\n",
    "validation_dir = '/home/mike/Documents/keras_vgg16_tf2/cats_and_dogs_small/validation'\n",
    "test_dir = '/home/mike/Documents/keras_vgg16_tf2/cats_and_dogs_small/test'\n",
    "\n",
    "\n",
    "train_datagen = ImageDataGenerator(\n",
    "      rescale=1./255,\n",
    "      rotation_range=40,\n",
    "      width_shift_range=0.2,\n",
    "      height_shift_range=0.2,\n",
    "      shear_range=0.2,\n",
    "      zoom_range=0.2,\n",
    "      horizontal_flip=True,\n",
    "      fill_mode='nearest')\n",
    "\n",
    "# Note that the validation data should not be augmented!\n",
    "test_datagen = ImageDataGenerator(rescale=1./255)\n",
    "\n",
    "train_generator = train_datagen.flow_from_directory(\n",
    "        # This is the target directory\n",
    "        train_dir,\n",
    "        # All images will be resized to 150x150\n",
    "        target_size=(150, 150),\n",
    "        batch_size=20,\n",
    "        # Since we use binary_crossentropy loss, we need binary labels\n",
    "        class_mode='binary')\n",
    "\n",
    "validation_generator = test_datagen.flow_from_directory(\n",
    "        validation_dir,\n",
    "        target_size=(150, 150),\n",
    "        batch_size=20,\n",
    "        class_mode='binary')"
   ]
  },
  {
   "cell_type": "code",
   "execution_count": 5,
   "metadata": {},
   "outputs": [],
   "source": [
    "# Compile the model \n",
    "from keras import optimizers\n",
    "\n",
    "model.compile(loss='binary_crossentropy',\n",
    "              optimizer=optimizers.RMSprop(lr=2e-5),\n",
    "              metrics=['acc'])"
   ]
  },
  {
   "cell_type": "code",
   "execution_count": 6,
   "metadata": {},
   "outputs": [
    {
     "name": "stdout",
     "output_type": "stream",
     "text": [
      "Epoch 1/30\n",
      "100/100 - 16s - loss: 0.6935 - acc: 0.4970 - val_loss: 0.6918 - val_acc: 0.5000\n",
      "Epoch 2/30\n",
      "100/100 - 16s - loss: 0.6926 - acc: 0.5260 - val_loss: 0.6828 - val_acc: 0.5850\n",
      "Epoch 3/30\n",
      "100/100 - 16s - loss: 0.6811 - acc: 0.5580 - val_loss: 0.6787 - val_acc: 0.5350\n",
      "Epoch 4/30\n",
      "100/100 - 16s - loss: 0.6679 - acc: 0.5890 - val_loss: 0.6451 - val_acc: 0.6080\n",
      "Epoch 5/30\n",
      "100/100 - 16s - loss: 0.6613 - acc: 0.5950 - val_loss: 0.6445 - val_acc: 0.6140\n",
      "Epoch 6/30\n",
      "100/100 - 16s - loss: 0.6503 - acc: 0.6055 - val_loss: 0.6591 - val_acc: 0.5590\n",
      "Epoch 7/30\n",
      "100/100 - 16s - loss: 0.6438 - acc: 0.6190 - val_loss: 0.6464 - val_acc: 0.6120\n",
      "Epoch 8/30\n",
      "100/100 - 16s - loss: 0.6342 - acc: 0.6435 - val_loss: 0.6556 - val_acc: 0.5910\n",
      "Epoch 9/30\n",
      "100/100 - 16s - loss: 0.6382 - acc: 0.6285 - val_loss: 0.6163 - val_acc: 0.6510\n",
      "Epoch 10/30\n",
      "100/100 - 16s - loss: 0.6350 - acc: 0.6405 - val_loss: 0.6194 - val_acc: 0.6610\n",
      "Epoch 11/30\n",
      "100/100 - 16s - loss: 0.6236 - acc: 0.6585 - val_loss: 0.6749 - val_acc: 0.6040\n",
      "Epoch 12/30\n",
      "100/100 - 16s - loss: 0.6277 - acc: 0.6430 - val_loss: 0.6310 - val_acc: 0.6470\n",
      "Epoch 13/30\n",
      "100/100 - 16s - loss: 0.6161 - acc: 0.6575 - val_loss: 0.6149 - val_acc: 0.6400\n",
      "Epoch 14/30\n",
      "100/100 - 16s - loss: 0.6062 - acc: 0.6740 - val_loss: 0.6035 - val_acc: 0.6640\n",
      "Epoch 15/30\n",
      "100/100 - 16s - loss: 0.5991 - acc: 0.6895 - val_loss: 0.5656 - val_acc: 0.7070\n",
      "Epoch 16/30\n",
      "100/100 - 16s - loss: 0.5927 - acc: 0.6860 - val_loss: 0.6165 - val_acc: 0.6470\n",
      "Epoch 17/30\n",
      "100/100 - 16s - loss: 0.5791 - acc: 0.7000 - val_loss: 0.5466 - val_acc: 0.7230\n",
      "Epoch 18/30\n",
      "100/100 - 16s - loss: 0.5795 - acc: 0.7005 - val_loss: 0.5743 - val_acc: 0.6940\n",
      "Epoch 19/30\n",
      "100/100 - 16s - loss: 0.5758 - acc: 0.6980 - val_loss: 0.5772 - val_acc: 0.6910\n",
      "Epoch 20/30\n",
      "100/100 - 16s - loss: 0.5762 - acc: 0.6945 - val_loss: 0.5798 - val_acc: 0.6750\n",
      "Epoch 21/30\n",
      "100/100 - 16s - loss: 0.5634 - acc: 0.7020 - val_loss: 0.5654 - val_acc: 0.6980\n",
      "Epoch 22/30\n",
      "100/100 - 16s - loss: 0.5523 - acc: 0.7180 - val_loss: 0.5544 - val_acc: 0.7250\n",
      "Epoch 23/30\n",
      "100/100 - 16s - loss: 0.5546 - acc: 0.7080 - val_loss: 0.5611 - val_acc: 0.6970\n",
      "Epoch 24/30\n",
      "100/100 - 16s - loss: 0.5548 - acc: 0.7135 - val_loss: 0.5318 - val_acc: 0.7310\n",
      "Epoch 25/30\n",
      "100/100 - 16s - loss: 0.5494 - acc: 0.7290 - val_loss: 0.7520 - val_acc: 0.5890\n",
      "Epoch 26/30\n",
      "100/100 - 16s - loss: 0.5400 - acc: 0.7305 - val_loss: 0.5407 - val_acc: 0.7130\n",
      "Epoch 27/30\n",
      "100/100 - 16s - loss: 0.5337 - acc: 0.7325 - val_loss: 0.5194 - val_acc: 0.7400\n",
      "Epoch 28/30\n",
      "100/100 - 16s - loss: 0.5347 - acc: 0.7345 - val_loss: 0.5716 - val_acc: 0.7000\n",
      "Epoch 29/30\n",
      "100/100 - 16s - loss: 0.5396 - acc: 0.7260 - val_loss: 0.5213 - val_acc: 0.7350\n",
      "Epoch 30/30\n",
      "100/100 - 16s - loss: 0.5328 - acc: 0.7260 - val_loss: 0.5416 - val_acc: 0.7170\n"
     ]
    }
   ],
   "source": [
    "# Train the model \n",
    "history = model.fit(train_generator,\n",
    "                    steps_per_epoch=100,\n",
    "                    epochs=30,\n",
    "                    validation_data=validation_generator,\n",
    "                    validation_steps=50,\n",
    "                    verbose=2)"
   ]
  },
  {
   "cell_type": "code",
   "execution_count": 7,
   "metadata": {},
   "outputs": [],
   "source": [
    "model.save('/home/mic/Documents/vgg16_tf2/cats_and_dogs_small_1.h5')"
   ]
  },
  {
   "cell_type": "code",
   "execution_count": 8,
   "metadata": {},
   "outputs": [
    {
     "data": {
      "image/png": "[encoded data removed]",
      "text/plain": [
       "<Figure size 432x288 with 1 Axes>"
      ]
     },
     "metadata": {
      "needs_background": "light"
     },
     "output_type": "display_data"
    },
    {
     "data": {
      "image/png": "[encoded data removed]",
      "text/plain": [
       "<Figure size 432x288 with 1 Axes>"
      ]
     },
     "metadata": {
      "needs_background": "light"
     },
     "output_type": "display_data"
    }
   ],
   "source": [
    "# Plot the diagram \n",
    "\n",
    "import matplotlib.pyplot as plt\n",
    "\n",
    "acc = history.history['acc']\n",
    "val_acc = history.history['val_acc']\n",
    "loss = history.history['loss']\n",
    "val_loss = history.history['val_loss']\n",
    "\n",
    "epochs = range(len(acc))\n",
    "\n",
    "plt.plot(epochs, acc, 'bo', label='Training acc')\n",
    "plt.plot(epochs, val_acc, 'b', label='Validation acc')\n",
    "plt.title('Training and validation accuracy')\n",
    "plt.legend()\n",
    "\n",
    "plt.figure()\n",
    "\n",
    "plt.plot(epochs, loss, 'bo', label='Training loss')\n",
    "plt.plot(epochs, val_loss, 'b', label='Validation loss')\n",
    "plt.title('Training and validation loss')\n",
    "plt.legend()\n",
    "\n",
    "plt.show()"
   ]
  }
 ],
 "metadata": {
  "kernelspec": {
   "display_name": "Python 3",
   "language": "python",
   "name": "python3"
  },
  "language_info": {
   "codemirror_mode": {
    "name": "ipython",
    "version": 3
   },
   "file_extension": ".py",
   "mimetype": "text/x-python",
   "name": "python",
   "nbconvert_exporter": "python",
   "pygments_lexer": "ipython3",
   "version": "3.7.7"
  }
 },
 "nbformat": 4,
 "nbformat_minor": 2
}
